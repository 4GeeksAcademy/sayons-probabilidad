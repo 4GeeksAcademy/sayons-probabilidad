{
 "cells": [
  {
   "cell_type": "markdown",
   "id": "a41f3622",
   "metadata": {},
   "source": [
    "# Ejercicios de probabilidad"
   ]
  },
  {
   "cell_type": "markdown",
   "id": "8d077b64",
   "metadata": {},
   "source": [
    "## Celda para importar librerías y definir constantes"
   ]
  },
  {
   "cell_type": "code",
   "execution_count": 1,
   "id": "4c7fd0b4",
   "metadata": {},
   "outputs": [],
   "source": [
    "import numpy as np\n",
    "lanzamientos = 1000"
   ]
  },
  {
   "cell_type": "markdown",
   "id": "a6bdbd89",
   "metadata": {},
   "source": [
    "## Ejercicio 1 \n",
    "\n",
    "Dos dados se lanzan una vez y se observa el total obtenido. Usa una simulación para encontrar la probabilidad estimada de que la puntuación sea mayor a 7 o un número par. Una simulación es una repetición del mismo experimento multiples veces para observar su comportamiento:\n",
    "\n",
    "- Ejecuta el experimento 1000 veces (lanza 2 dados 1000 veces, y suma el número de ambos dados).\n",
    "- Lleva la cuenta de los números y las veces que la suma fue mayor a 7 o un número par.\n",
    "- Divide el número del paso 2 entre el número de iteraciones(1000)."
   ]
  },
  {
   "cell_type": "code",
   "execution_count": 37,
   "id": "8939d892",
   "metadata": {},
   "outputs": [
    {
     "name": "stdout",
     "output_type": "stream",
     "text": [
      "la probabilidad es de un: 65.2 %\n"
     ]
    }
   ],
   "source": [
    "dado1 = np.random.randint(1,7,size = lanzamientos)\n",
    "dado2 = np.random.randint(1,7,size = lanzamientos)\n",
    "results = {'Acierto': 0,\n",
    "            'Error' : 0\n",
    "            }\n",
    "suma = dado1 + dado2\n",
    "results['Acierto'] = int(sum( (suma > 7) | (suma%2 == 0)))\n",
    "results['Error'] = int(lanzamientos-results['Acierto'])\n",
    "p = float(round(((results['Acierto'])/lanzamientos)*100,2))\n",
    "\n",
    "print(f'la probabilidad es de un: {p} %')"
   ]
  },
  {
   "cell_type": "markdown",
   "id": "55732bca",
   "metadata": {},
   "source": [
    "## Ejercicio 2\n",
    "\n",
    "Una caja contiene 10 bolas blancas, 20 bolas rojas y 30 bolas verdes. Si tomamos 5 bolas de la caja reemplazándolas (tomando una bola, anotando el color y luego regresandola a la caja). Queremos saber la probabilidad de:\n",
    "\n",
    "1. Tomar 3 blancas y 2 rojas.\n",
    "2. Tomar todas del mismo color.\n",
    "\n",
    "Ejecuta el experimento 1000 veces y calcula las probabilidades que mencionadas."
   ]
  },
  {
   "cell_type": "code",
   "execution_count": 7,
   "id": "23244d20",
   "metadata": {},
   "outputs": [
    {
     "data": {
      "text/plain": [
       "{0: 'White',\n",
       " 1: 'White',\n",
       " 2: 'White',\n",
       " 3: 'White',\n",
       " 4: 'White',\n",
       " 5: 'White',\n",
       " 6: 'White',\n",
       " 7: 'White',\n",
       " 8: 'White',\n",
       " 9: 'White',\n",
       " 10: 'Red',\n",
       " 11: 'Red',\n",
       " 12: 'Red',\n",
       " 13: 'Red',\n",
       " 14: 'Red',\n",
       " 15: 'Red',\n",
       " 16: 'Red',\n",
       " 17: 'Red',\n",
       " 18: 'Red',\n",
       " 19: 'Red',\n",
       " 20: 'Red',\n",
       " 21: 'Red',\n",
       " 22: 'Red',\n",
       " 23: 'Red',\n",
       " 24: 'Red',\n",
       " 25: 'Red',\n",
       " 26: 'Red',\n",
       " 27: 'Red',\n",
       " 28: 'Red',\n",
       " 29: 'Red',\n",
       " 30: 'Green',\n",
       " 31: 'Green',\n",
       " 32: 'Green',\n",
       " 33: 'Green',\n",
       " 34: 'Green',\n",
       " 35: 'Green',\n",
       " 36: 'Green',\n",
       " 37: 'Green',\n",
       " 38: 'Green',\n",
       " 39: 'Green',\n",
       " 40: 'Green',\n",
       " 41: 'Green',\n",
       " 42: 'Green',\n",
       " 43: 'Green',\n",
       " 44: 'Green',\n",
       " 45: 'Green',\n",
       " 46: 'Green',\n",
       " 47: 'Green',\n",
       " 48: 'Green',\n",
       " 49: 'Green',\n",
       " 50: 'Green',\n",
       " 51: 'Green',\n",
       " 52: 'Green',\n",
       " 53: 'Green',\n",
       " 54: 'Green',\n",
       " 55: 'Green',\n",
       " 56: 'Green',\n",
       " 57: 'Green',\n",
       " 58: 'Green',\n",
       " 59: 'Green'}"
      ]
     },
     "execution_count": 7,
     "metadata": {},
     "output_type": "execute_result"
    }
   ],
   "source": [
    "ball_box = {}\n",
    "\n",
    "# Crea la cajas con las bolas\n",
    "for i in range(60):\n",
    "    if i < 10:\n",
    "        ball_box[i] = \"White\"\n",
    "    elif (i > 9) and (i < 30):\n",
    "        ball_box[i] = \"Red\"\n",
    "    else:\n",
    "        ball_box[i] = \"Green\"\n",
    "\n",
    "ball_box"
   ]
  },
  {
   "cell_type": "markdown",
   "id": "ac574fa1",
   "metadata": {},
   "source": [
    "## Generamos un evento aleatorio que simule sacar 5 bolas y calculamos las probabilidades pedidas"
   ]
  },
  {
   "cell_type": "code",
   "execution_count": 34,
   "id": "2fda50fa",
   "metadata": {},
   "outputs": [
    {
     "name": "stdout",
     "output_type": "stream",
     "text": [
      "La probabilidad de sacar tres bolas blancas y dos rojas es: 0.9 %\n",
      "La probabilidad de sacar cinco bolas del mismo color es: 4.4 %\n"
     ]
    }
   ],
   "source": [
    "count = 0\n",
    "count2 = 0\n",
    "throws = []\n",
    "for i in range(lanzamientos):\n",
    "\n",
    "    event = np.random.choice(list(ball_box.values()),size=5)\n",
    "    throws.append(event)  # por si quiero ver todas las tiradas que hacemos\n",
    "    condition_white = sum(event =='White')\n",
    "    condition_red = sum(event == 'Red')\n",
    "    condition_green = sum (event =='Green')\n",
    "    if condition_white == 3 and condition_red == 2:\n",
    "        count += 1\n",
    "    if condition_white == 5 or condition_red == 5 or condition_green == 5:\n",
    "        count2 += 1\n",
    "\n",
    "p_3white_2red = round((count/lanzamientos)*100,2)\n",
    "p_all_same_color= round((count2/lanzamientos)*100,2)\n",
    "\n",
    "print(f'La probabilidad de sacar tres bolas blancas y dos rojas es: {p_3white_2red} %')\n",
    "print(f'La probabilidad de sacar cinco bolas del mismo color es: {p_all_same_color} %')\n",
    "\n",
    "\n",
    "    \n",
    "\n",
    "\n",
    "\n"
   ]
  },
  {
   "cell_type": "markdown",
   "id": "202890ff",
   "metadata": {},
   "source": [
    "### Conclusiones: con los datos obtenidos podemos decir que es más fácil sacar 5 bolas del mismo color que sacar una combinación de colores"
   ]
  }
 ],
 "metadata": {
  "kernelspec": {
   "display_name": "Python 3",
   "language": "python",
   "name": "python3"
  },
  "language_info": {
   "codemirror_mode": {
    "name": "ipython",
    "version": 3
   },
   "file_extension": ".py",
   "mimetype": "text/x-python",
   "name": "python",
   "nbconvert_exporter": "python",
   "pygments_lexer": "ipython3",
   "version": "3.11.4"
  }
 },
 "nbformat": 4,
 "nbformat_minor": 5
}
